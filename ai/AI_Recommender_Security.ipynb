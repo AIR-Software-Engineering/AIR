{
 "cells": [
  {
   "cell_type": "code",
   "execution_count": 1,
   "id": "f5ae618f",
   "metadata": {},
   "outputs": [],
   "source": [
    "import torch\n",
    "import pandas as pd\n",
    "import torch.nn.functional as F\n",
    "import matplotlib.pyplot as plt\n",
    "from torch import nn\n",
    "from torch.utils.data import Dataset, DataLoader"
   ]
  },
  {
   "cell_type": "code",
   "execution_count": 2,
   "id": "e97d1653",
   "metadata": {},
   "outputs": [
    {
     "data": {
      "text/html": [
       "<div>\n",
       "<style scoped>\n",
       "    .dataframe tbody tr th:only-of-type {\n",
       "        vertical-align: middle;\n",
       "    }\n",
       "\n",
       "    .dataframe tbody tr th {\n",
       "        vertical-align: top;\n",
       "    }\n",
       "\n",
       "    .dataframe thead th {\n",
       "        text-align: right;\n",
       "    }\n",
       "</style>\n",
       "<table border=\"1\" class=\"dataframe\">\n",
       "  <thead>\n",
       "    <tr style=\"text-align: right;\">\n",
       "      <th></th>\n",
       "      <th>student_id</th>\n",
       "      <th>course_id</th>\n",
       "      <th>ratings</th>\n",
       "    </tr>\n",
       "  </thead>\n",
       "  <tbody>\n",
       "    <tr>\n",
       "      <th>0</th>\n",
       "      <td>1</td>\n",
       "      <td>1</td>\n",
       "      <td>1</td>\n",
       "    </tr>\n",
       "    <tr>\n",
       "      <th>1</th>\n",
       "      <td>1</td>\n",
       "      <td>2</td>\n",
       "      <td>1</td>\n",
       "    </tr>\n",
       "    <tr>\n",
       "      <th>2</th>\n",
       "      <td>1</td>\n",
       "      <td>3</td>\n",
       "      <td>1</td>\n",
       "    </tr>\n",
       "    <tr>\n",
       "      <th>3</th>\n",
       "      <td>1</td>\n",
       "      <td>4</td>\n",
       "      <td>1</td>\n",
       "    </tr>\n",
       "    <tr>\n",
       "      <th>4</th>\n",
       "      <td>1</td>\n",
       "      <td>5</td>\n",
       "      <td>1</td>\n",
       "    </tr>\n",
       "    <tr>\n",
       "      <th>...</th>\n",
       "      <td>...</td>\n",
       "      <td>...</td>\n",
       "      <td>...</td>\n",
       "    </tr>\n",
       "    <tr>\n",
       "      <th>475</th>\n",
       "      <td>11</td>\n",
       "      <td>36</td>\n",
       "      <td>0</td>\n",
       "    </tr>\n",
       "    <tr>\n",
       "      <th>476</th>\n",
       "      <td>11</td>\n",
       "      <td>37</td>\n",
       "      <td>0</td>\n",
       "    </tr>\n",
       "    <tr>\n",
       "      <th>477</th>\n",
       "      <td>11</td>\n",
       "      <td>38</td>\n",
       "      <td>0</td>\n",
       "    </tr>\n",
       "    <tr>\n",
       "      <th>478</th>\n",
       "      <td>11</td>\n",
       "      <td>39</td>\n",
       "      <td>0</td>\n",
       "    </tr>\n",
       "    <tr>\n",
       "      <th>479</th>\n",
       "      <td>11</td>\n",
       "      <td>40</td>\n",
       "      <td>0</td>\n",
       "    </tr>\n",
       "  </tbody>\n",
       "</table>\n",
       "<p>480 rows × 3 columns</p>\n",
       "</div>"
      ],
      "text/plain": [
       "     student_id  course_id  ratings\n",
       "0             1          1        1\n",
       "1             1          2        1\n",
       "2             1          3        1\n",
       "3             1          4        1\n",
       "4             1          5        1\n",
       "..          ...        ...      ...\n",
       "475          11         36        0\n",
       "476          11         37        0\n",
       "477          11         38        0\n",
       "478          11         39        0\n",
       "479          11         40        0\n",
       "\n",
       "[480 rows x 3 columns]"
      ]
     },
     "execution_count": 2,
     "metadata": {},
     "output_type": "execute_result"
    }
   ],
   "source": [
    "import json\n",
    "with open(\"RatingData_Train_Security.json\", \"r\") as train_json:\n",
    "    train_python = json.load(train_json)\n",
    "with open(\"RatingData_Test_Security.json\", \"r\") as test_security_json:\n",
    "    test_security_python = json.load(test_security_json)\n",
    "\n",
    "list_to_pd = []\n",
    "\n",
    "temp_student_id_security = test_security_python[0]['student_id']\n",
    "\n",
    "for i in range (0, len(train_python)):\n",
    "    list_to_pd.append([int(train_python[i]['student_id']), int(train_python[i]['course_id']), train_python[i]['ratings']])\n",
    "\n",
    "for i in range(0, len(test_security_python)):\n",
    "    list_to_pd.append([int(train_python[len(train_python)-1]['student_id'])+1, int(test_security_python[i]['course_id']), test_security_python[i]['ratings']])\n",
    "    \n",
    "df = pd.DataFrame(list_to_pd, columns=['student_id', 'course_id', 'ratings'])\n",
    "\n",
    "df"
   ]
  },
  {
   "cell_type": "code",
   "execution_count": 3,
   "id": "b031e1ea",
   "metadata": {},
   "outputs": [],
   "source": [
    "list_to_test_security = []\n",
    "\n",
    "list_zero_score_course_id = []\n",
    "\n",
    "for i in range(0, len(test_security_python)):\n",
    "    list_to_test_security.append([int(1), int(test_security_python[i]['course_id']), test_security_python[i]['ratings']])\n",
    "    if test_security_python[i]['ratings'] == 0 :\n",
    "        list_zero_score_course_id.append(int(test_security_python[i]['course_id']))\n",
    "\n",
    "test_security_df = pd.DataFrame(list_to_test_security, columns=['student_id', 'course_id', 'ratings'])"
   ]
  },
  {
   "cell_type": "code",
   "execution_count": 4,
   "id": "1eecdc07",
   "metadata": {},
   "outputs": [],
   "source": [
    "class AIRDataset(Dataset):\n",
    "    def __init__(self, datapath):\n",
    "        self.data_pd = datapath\n",
    "        self.items = torch.LongTensor(self.data_pd['course_id'])\n",
    "        self.users = torch.LongTensor(self.data_pd['student_id'])\n",
    "        self.ratings = torch.FloatTensor(self.data_pd['ratings'])\n",
    "        \n",
    "    def __len__(self):\n",
    "        return len(self.ratings)\n",
    "    def __getitem__(self, idx):\n",
    "        return self.users[idx], self.items[idx], self.ratings[idx]\n",
    "    \n",
    "    def get_datasize(self):\n",
    "        return self.users.max() + 1, self.items.max() + 1, len(self.ratings)\n",
    "\n",
    "train_data = AIRDataset(df)\n",
    "test_data_security = AIRDataset(test_security_df)\n",
    "\n",
    "batch_size = 40\n",
    "train_loader = DataLoader(train_data, batch_size = batch_size, shuffle = False)\n",
    "test_loader_security = DataLoader(test_data_security, batch_size = batch_size, shuffle = False)"
   ]
  },
  {
   "cell_type": "code",
   "execution_count": 5,
   "id": "a2a3f82b",
   "metadata": {},
   "outputs": [
    {
     "name": "stdout",
     "output_type": "stream",
     "text": [
      "tensor(12) tensor(41) 480 40\n"
     ]
    }
   ],
   "source": [
    "n_users, n_items, n_ratings = train_data.get_datasize()\n",
    "_, _, n_ratings_test_security = test_data_security.get_datasize()\n",
    "\n",
    "\n",
    "print(n_users, n_items, n_ratings, n_ratings_test_security)"
   ]
  },
  {
   "cell_type": "code",
   "execution_count": 6,
   "id": "8c660f04",
   "metadata": {},
   "outputs": [],
   "source": [
    "class MF(nn.Module):\n",
    "    def __init__(self, num_users, num_items, rank=1):\n",
    "        super().__init__()\n",
    "        self.U = torch.nn.Parameter(torch.randn(num_users, rank))\n",
    "        self.V = torch.nn.Parameter(torch.randn(num_items, rank))\n",
    "        \n",
    "    def forward(self, users, items):\n",
    "        ratings = torch.sum(self.U[users]*self.V[items], dim=-1)\n",
    "        return ratings"
   ]
  },
  {
   "cell_type": "code",
   "execution_count": 14,
   "id": "9985e63e",
   "metadata": {},
   "outputs": [
    {
     "name": "stdout",
     "output_type": "stream",
     "text": [
      "tensor([1., 1., 2., 1., 0., 0., 1., 1., 5., 3., 2., 3., 3., 3., 5., 2., 2., 2.,\n",
      "        1., 2., 2., 3., 2., 2., 2., 2., 2., 0., 0., 0., 0., 0., 0., 0., 0., 0.,\n",
      "        0., 0., 0., 0.])\n",
      "tensor([1.3921, 1.4763, 1.5278, 1.5721, 1.2640, 1.5378, 1.4876, 1.5809, 5.1485,\n",
      "        3.0020, 2.7800, 2.8131, 2.8209, 2.9987, 5.1489, 1.9695, 2.1483, 1.8838,\n",
      "        1.8403, 2.1489, 1.8766, 2.3746, 2.0565, 2.1554, 1.9712, 2.3354, 2.3256,\n",
      "        4.9558, 3.8785, 3.6051, 3.7795, 3.5127, 3.9675, 3.7916, 4.9558, 2.8809,\n",
      "        2.6083, 2.7952, 2.8826, 4.9561], grad_fn=<SumBackward1>)\n"
     ]
    }
   ],
   "source": [
    "mf_model = MF(n_users, n_items, rank=1)\n",
    "optimizer = torch.optim.Adam(mf_model.parameters(), lr=0.01)\n",
    "criterion = nn.MSELoss()\n",
    "\n",
    "for epoch in range(200):\n",
    "    cost = 0\n",
    "    for users, items, ratings in train_loader:\n",
    "        optimizer.zero_grad()\n",
    "        ratings_pred = mf_model(users, items)\n",
    "        loss = criterion(ratings_pred, ratings)\n",
    "        loss.backward()\n",
    "        optimizer.step()\n",
    "        cost += loss.item() * len(ratings)\n",
    "        \n",
    "    cost /= n_ratings\n",
    "    \n",
    "    #print(f\"Epoch : {epoch}\")\n",
    "    #print(\"train cost : {:.6f}\".format(cost))\n",
    "    \n",
    "\n",
    "for users, items, ratings in test_loader_security:\n",
    "    cost_test = 0\n",
    "    ratings_pred = mf_model(users, items)\n",
    "    loss = criterion(ratings_pred, ratings)\n",
    "    cost_test += loss.item() * len(ratings)\n",
    "    print(ratings)\n",
    "    print(ratings_pred)"
   ]
  },
  {
   "cell_type": "code",
   "execution_count": 8,
   "id": "2ce036cb",
   "metadata": {},
   "outputs": [],
   "source": [
    "my_string = \"\"\n",
    "loop_start = list_zero_score_course_id[0]\n",
    "loop_end = list_zero_score_course_id[-1]\n",
    "\n",
    "for i in list_zero_score_course_id:\n",
    "    if i == loop_end:\n",
    "        my_string += '{}\"student_id\":{},\"course_id\":{},\"grade\":{},\"major\":\"software\",\"keywords\":\"security\",\"ratings\":{}{}{}'.format(\"{\", temp_student_id_security, int(train_python[i-1]['course_id']), int(train_python[i-1]['grade']), round(float(ratings_pred[i-1]), 4), \"}\", \"]\")\n",
    "    elif i == loop_start:\n",
    "        my_string += '{}{}\"student_id\":{},\"course_id\":{},\"grade\":{},\"major\":\"software\",\"keywords\":\"security\",\"ratings\":{}{},'.format(\"[\", \"{\", temp_student_id_security, int(train_python[i-1]['course_id']), int(train_python[i-1]['grade']), round(float(ratings_pred[i-1]), 4), \"}\")\n",
    "    else:\n",
    "        my_string += '{}\"student_id\":{},\"course_id\":{},\"grade\":{},\"major\":\"software\",\"keywords\":\"security\",\"ratings\":{}{},'.format(\"{\", temp_student_id_security, int(train_python[i-1]['course_id']), int(train_python[i-1]['grade']), round(float(ratings_pred[i-1]), 4), \"}\")"
   ]
  },
  {
   "cell_type": "code",
   "execution_count": 9,
   "id": "e456af8e",
   "metadata": {},
   "outputs": [],
   "source": [
    "with open(\"./Result_Security.json\", 'w') as outfile:\n",
    "    json.dump(json.loads(my_string), outfile, indent=4)"
   ]
  },
  {
   "cell_type": "code",
   "execution_count": null,
   "id": "5f4a5432",
   "metadata": {},
   "outputs": [],
   "source": []
  }
 ],
 "metadata": {
  "kernelspec": {
   "display_name": "Python 3",
   "language": "python",
   "name": "python3"
  },
  "language_info": {
   "codemirror_mode": {
    "name": "ipython",
    "version": 3
   },
   "file_extension": ".py",
   "mimetype": "text/x-python",
   "name": "python",
   "nbconvert_exporter": "python",
   "pygments_lexer": "ipython3",
   "version": "3.8.8"
  }
 },
 "nbformat": 4,
 "nbformat_minor": 5
}
